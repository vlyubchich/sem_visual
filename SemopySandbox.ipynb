{
  "nbformat": 4,
  "nbformat_minor": 0,
  "metadata": {
    "colab": {
      "provenance": [],
      "history_visible": true,
      "include_colab_link": true
    },
    "kernelspec": {
      "name": "python3",
      "display_name": "Python 3"
    },
    "language_info": {
      "name": "python"
    }
  },
  "cells": [
    {
      "cell_type": "markdown",
      "metadata": {
        "id": "view-in-github",
        "colab_type": "text"
      },
      "source": [
        "<a href=\"https://colab.research.google.com/github/vlyubchich/sem_visual/blob/main/SemopySandbox.ipynb\" target=\"_parent\"><img src=\"https://colab.research.google.com/assets/colab-badge.svg\" alt=\"Open In Colab\"/></a>"
      ]
    },
    {
      "cell_type": "markdown",
      "source": [
        "# Setup"
      ],
      "metadata": {
        "id": "KKPJWe34zGTD"
      }
    },
    {
      "cell_type": "markdown",
      "source": [
        "This section sets up the required packages and functions."
      ],
      "metadata": {
        "id": "2wPYCfdr0Dxs"
      }
    },
    {
      "cell_type": "code",
      "source": [
        "!pip install semopy"
      ],
      "metadata": {
        "colab": {
          "base_uri": "https://localhost:8080/",
          "height": 0
        },
        "id": "MqXntbYNT4vi",
        "outputId": "7677beaf-f1e6-4632-d10f-a3669444fe49"
      },
      "execution_count": 1,
      "outputs": [
        {
          "output_type": "stream",
          "name": "stdout",
          "text": [
            "Requirement already satisfied: semopy in /usr/local/lib/python3.10/dist-packages (2.3.11)\n",
            "Requirement already satisfied: scipy in /usr/local/lib/python3.10/dist-packages (from semopy) (1.13.1)\n",
            "Requirement already satisfied: numpy in /usr/local/lib/python3.10/dist-packages (from semopy) (1.26.4)\n",
            "Requirement already satisfied: pandas in /usr/local/lib/python3.10/dist-packages (from semopy) (2.2.2)\n",
            "Requirement already satisfied: sympy in /usr/local/lib/python3.10/dist-packages (from semopy) (1.13.1)\n",
            "Requirement already satisfied: scikit-learn in /usr/local/lib/python3.10/dist-packages (from semopy) (1.5.2)\n",
            "Requirement already satisfied: statsmodels in /usr/local/lib/python3.10/dist-packages (from semopy) (0.14.4)\n",
            "Requirement already satisfied: numdifftools in /usr/local/lib/python3.10/dist-packages (from semopy) (0.9.41)\n",
            "Requirement already satisfied: python-dateutil>=2.8.2 in /usr/local/lib/python3.10/dist-packages (from pandas->semopy) (2.8.2)\n",
            "Requirement already satisfied: pytz>=2020.1 in /usr/local/lib/python3.10/dist-packages (from pandas->semopy) (2024.2)\n",
            "Requirement already satisfied: tzdata>=2022.7 in /usr/local/lib/python3.10/dist-packages (from pandas->semopy) (2024.2)\n",
            "Requirement already satisfied: joblib>=1.2.0 in /usr/local/lib/python3.10/dist-packages (from scikit-learn->semopy) (1.4.2)\n",
            "Requirement already satisfied: threadpoolctl>=3.1.0 in /usr/local/lib/python3.10/dist-packages (from scikit-learn->semopy) (3.5.0)\n",
            "Requirement already satisfied: patsy>=0.5.6 in /usr/local/lib/python3.10/dist-packages (from statsmodels->semopy) (0.5.6)\n",
            "Requirement already satisfied: packaging>=21.3 in /usr/local/lib/python3.10/dist-packages (from statsmodels->semopy) (24.1)\n",
            "Requirement already satisfied: mpmath<1.4,>=1.1.0 in /usr/local/lib/python3.10/dist-packages (from sympy->semopy) (1.3.0)\n",
            "Requirement already satisfied: six in /usr/local/lib/python3.10/dist-packages (from patsy>=0.5.6->statsmodels->semopy) (1.16.0)\n"
          ]
        }
      ]
    },
    {
      "cell_type": "code",
      "source": [
        "import numpy as np\n",
        "import pandas as pd\n",
        "import semopy"
      ],
      "metadata": {
        "id": "jo_fIqJtlQ-c"
      },
      "execution_count": 2,
      "outputs": []
    },
    {
      "cell_type": "markdown",
      "source": [
        "# Simulated data example"
      ],
      "metadata": {
        "id": "KMEzQ1cGz-jf"
      }
    },
    {
      "cell_type": "markdown",
      "source": [
        "Here, we create data for the analysis.\n",
        "Simulated data give an advantage here since we know the underlying true relationships.\n",
        "\n",
        "In the simulated example below, each variable x01, x02, and x03 is correlated with two other variables and not with the third.\n",
        "For example, x01 is correlated with x11 and x12 but not x13.\n",
        "In turn, the response variable (the variable of interest) y is correlated with x01 and x02 but not x03.\n",
        "Knowing these underlying true relationships, we can assess how the modeling approach can show them."
      ],
      "metadata": {
        "id": "IDNFXjhG0SJ3"
      }
    },
    {
      "cell_type": "code",
      "source": [
        "# Set random seed for reproducibility\n",
        "np.random.seed(123)\n",
        "\n",
        "# Create synthetic data\n",
        "n_samples = 100\n",
        "\n",
        "# Independent variables\n",
        "x11 = np.random.normal(size = n_samples)\n",
        "x12 = np.random.normal(size = n_samples)\n",
        "x13 = np.random.normal(size = n_samples)\n",
        "x01 = 2 * x11 + 3 * x12 + np.random.normal(size = n_samples)\n",
        "\n",
        "x21 = np.random.normal(size = n_samples)\n",
        "x22 = np.random.normal(size = n_samples)\n",
        "x23 = np.random.normal(size = n_samples)\n",
        "x02 = -2 * x21 + 3 * x22 + np.random.normal(size = n_samples)\n",
        "\n",
        "x31 = np.random.normal(size = n_samples)\n",
        "x32 = np.random.normal(size = n_samples)\n",
        "x33 = np.random.normal(size = n_samples)\n",
        "x03 = 2 * x31 - 3 * x32 + np.random.normal(size = n_samples)\n",
        "\n",
        "# Dependent variable (response variable)\n",
        "# Here y is related to x1 and x2, but unrelated to x3 and x4\n",
        "y = 2 * x01 - 3 * x02 + np.random.normal(size = n_samples)\n",
        "\n",
        "# Create a DataFrame\n",
        "df = pd.DataFrame({\n",
        "    'x11': x11, 'x12': x12, 'x13': x13, 'x01': x01,\n",
        "    'x21': x21, 'x22': x22, 'x23': x23, 'x02': x02,\n",
        "    'x31': x31, 'x32': x32, 'x33': x33, 'x03': x03,\n",
        "    'y': y\n",
        "})\n",
        "\n",
        "# Display the first few rows of the DataFrame\n",
        "print(df.head())"
      ],
      "metadata": {
        "colab": {
          "base_uri": "https://localhost:8080/",
          "height": 0
        },
        "id": "_b1g6lWvkz7N",
        "outputId": "6b4a9503-35e5-48d0-daa8-d4f2c808791b"
      },
      "execution_count": 6,
      "outputs": [
        {
          "output_type": "stream",
          "name": "stdout",
          "text": [
            "        x11       x12       x13       x01       x21       x22       x23  \\\n",
            "0 -1.085631  0.642055  0.703310  0.519958  1.534090  0.752034  1.140656   \n",
            "1  0.997345 -1.977888 -0.598105 -4.767962 -0.529914  0.069641 -0.788166   \n",
            "2  0.282978  0.712265  2.200702  2.043600 -0.490972 -0.265446  0.265234   \n",
            "3 -1.506295  2.598304  0.688297  5.393446 -1.309165  0.929584 -0.372272   \n",
            "4 -0.578600 -0.024626 -0.006307 -1.375092 -0.008660  1.260821  1.174600   \n",
            "\n",
            "        x02       x31       x32       x33       x03          y  \n",
            "0 -0.773632 -0.121167  0.551302 -0.748827 -2.541166   4.472515  \n",
            "1  0.320252 -2.008585  0.419589  0.567595 -3.700289 -10.315722  \n",
            "2  1.798989 -0.920647  1.815652  0.718151 -6.534973   0.023032  \n",
            "3  5.788005  0.168234 -0.252750 -0.999381  1.379189  -5.588199  \n",
            "4  3.548747 -1.319892 -0.292004  0.474898 -1.558910 -14.013396  \n"
          ]
        }
      ]
    },
    {
      "cell_type": "markdown",
      "source": [
        "# Full model"
      ],
      "metadata": {
        "id": "6Oct-LHs0cz4"
      }
    },
    {
      "cell_type": "markdown",
      "source": [
        "Implement structural equation modeling (SEM) to the data."
      ],
      "metadata": {
        "id": "8yY90EvP0cbK"
      }
    },
    {
      "cell_type": "code",
      "source": [
        "# Specify the model\n",
        "m0_spec = \"\"\"\n",
        "y ~ x01\n",
        "y ~ x02\n",
        "y ~ x03\n",
        "\n",
        "x01 ~ x11\n",
        "x01 ~ x12\n",
        "x01 ~ x13\n",
        "\n",
        "x02 ~ x21\n",
        "x02 ~ x22\n",
        "x02 ~ x23\n",
        "\n",
        "x03 ~ x31\n",
        "x03 ~ x32\n",
        "x03 ~ x33\n",
        "\"\"\"\n",
        "\n",
        "# Create a SEM model object\n",
        "m0 = semopy.Model(m0_spec)\n",
        "\n",
        "# Fit the model to the data (i.e., estimate model coefficients)\n",
        "m0.fit(df)\n",
        "\n",
        "# Print the model results\n",
        "print(m0.inspect())"
      ],
      "metadata": {
        "colab": {
          "base_uri": "https://localhost:8080/",
          "height": 0
        },
        "id": "KGF9YMNzmZT7",
        "outputId": "c4cc719a-e755-47c4-a56a-691fc44bf96a"
      },
      "execution_count": 37,
      "outputs": [
        {
          "output_type": "stream",
          "name": "stdout",
          "text": [
            "   lval  op rval  Estimate  Std. Err     z-value       p-value\n",
            "0   x01   ~  x11  1.917685  0.076009   25.229780  0.000000e+00\n",
            "1   x01   ~  x12  3.076959  0.088268   34.859313  0.000000e+00\n",
            "2   x01   ~  x13  0.162307  0.088467    1.834661  6.655595e-02\n",
            "3   x02   ~  x21 -2.057721  0.105745  -19.459329  0.000000e+00\n",
            "4   x02   ~  x22  2.833962  0.109619   25.852812  0.000000e+00\n",
            "5   x02   ~  x23  0.054668  0.115523    0.473219  6.360566e-01\n",
            "6   x03   ~  x31  1.938079  0.102340   18.937593  0.000000e+00\n",
            "7   x03   ~  x32 -2.946491  0.107322  -27.454758  0.000000e+00\n",
            "8   x03   ~  x33 -0.147945  0.107310   -1.378667  1.679974e-01\n",
            "9     y   ~  x01  2.041009  0.023320   87.522300  0.000000e+00\n",
            "10    y   ~  x02 -3.002836  0.023725 -126.569656  0.000000e+00\n",
            "11    y   ~  x03 -0.013848  0.025315   -0.547027  5.843605e-01\n",
            "12  x01  ~~  x01  0.732505  0.103592    7.071068  1.537437e-12\n",
            "13  x02  ~~  x02  1.171400  0.165661    7.071068  1.537437e-12\n",
            "14  x03  ~~  x03  0.980714  0.138694    7.071068  1.537437e-12\n",
            "15    y  ~~    y  0.745662  0.105453    7.071068  1.537437e-12\n"
          ]
        }
      ]
    },
    {
      "cell_type": "markdown",
      "source": [
        "Show the plot with standardized coefficients and p-values (p-values quantify the statistical significance of the coefficients; typically, if p-value < 0.05, the result is statistically significant)."
      ],
      "metadata": {
        "id": "l-kfSYr845wD"
      }
    },
    {
      "cell_type": "code",
      "source": [
        "semopy.semplot(m0, \"m0.png\", std_ests = True)"
      ],
      "metadata": {
        "colab": {
          "base_uri": "https://localhost:8080/",
          "height": 341
        },
        "id": "WG_xNRZWrhRH",
        "outputId": "c58e497d-50dd-46e1-f865-4895ee84df46"
      },
      "execution_count": 31,
      "outputs": [
        {
          "output_type": "execute_result",
          "data": {
            "image/svg+xml": "<?xml version=\"1.0\" encoding=\"UTF-8\" standalone=\"no\"?>\n<!DOCTYPE svg PUBLIC \"-//W3C//DTD SVG 1.1//EN\"\n \"http://www.w3.org/Graphics/SVG/1.1/DTD/svg11.dtd\">\n<!-- Generated by graphviz version 2.43.0 (0)\n -->\n<!-- Title: G Pages: 1 -->\n<svg width=\"673pt\" height=\"240pt\"\n viewBox=\"0.00 0.00 673.00 240.00\" xmlns=\"http://www.w3.org/2000/svg\" xmlns:xlink=\"http://www.w3.org/1999/xlink\">\n<g id=\"graph0\" class=\"graph\" transform=\"scale(1 1) rotate(0) translate(4 236)\">\n<title>G</title>\n<polygon fill=\"white\" stroke=\"transparent\" points=\"-4,4 -4,-236 669,-236 669,4 -4,4\"/>\n<!-- y -->\n<g id=\"node1\" class=\"node\">\n<title>y</title>\n<polygon fill=\"none\" stroke=\"black\" points=\"354,-36 300,-36 300,0 354,0 354,-36\"/>\n<text text-anchor=\"middle\" x=\"327\" y=\"-14.3\" font-family=\"Times,serif\" font-size=\"14.00\">y</text>\n</g>\n<!-- x01 -->\n<g id=\"node2\" class=\"node\">\n<title>x01</title>\n<polygon fill=\"none\" stroke=\"black\" points=\"166,-134 112,-134 112,-98 166,-98 166,-134\"/>\n<text text-anchor=\"middle\" x=\"139\" y=\"-112.3\" font-family=\"Times,serif\" font-size=\"14.00\">x01</text>\n</g>\n<!-- x01&#45;&gt;y -->\n<g id=\"edge10\" class=\"edge\">\n<title>x01&#45;&gt;y</title>\n<path fill=\"none\" stroke=\"black\" d=\"M166.34,-101.04C199.15,-84.29 254.29,-56.13 290.66,-37.55\"/>\n<polygon fill=\"black\" stroke=\"black\" points=\"292.62,-40.49 299.94,-32.82 289.44,-34.25 292.62,-40.49\"/>\n<text text-anchor=\"middle\" x=\"281\" y=\"-70.4\" font-family=\"Times,serif\" font-size=\"12.00\">0.612</text>\n<text text-anchor=\"middle\" x=\"281\" y=\"-57.4\" font-family=\"Times,serif\" font-size=\"12.00\">p&#45;val: 0.00</text>\n</g>\n<!-- x02 -->\n<g id=\"node3\" class=\"node\">\n<title>x02</title>\n<polygon fill=\"none\" stroke=\"black\" points=\"354,-134 300,-134 300,-98 354,-98 354,-134\"/>\n<text text-anchor=\"middle\" x=\"327\" y=\"-112.3\" font-family=\"Times,serif\" font-size=\"14.00\">x02</text>\n</g>\n<!-- x02&#45;&gt;y -->\n<g id=\"edge11\" class=\"edge\">\n<title>x02&#45;&gt;y</title>\n<path fill=\"none\" stroke=\"black\" d=\"M327,-97.84C327,-83.5 327,-62.81 327,-46.22\"/>\n<polygon fill=\"black\" stroke=\"black\" points=\"330.5,-46.01 327,-36.01 323.5,-46.01 330.5,-46.01\"/>\n<text text-anchor=\"middle\" x=\"353\" y=\"-70.4\" font-family=\"Times,serif\" font-size=\"12.00\">&#45;0.888</text>\n<text text-anchor=\"middle\" x=\"353\" y=\"-57.4\" font-family=\"Times,serif\" font-size=\"12.00\">p&#45;val: 0.00</text>\n</g>\n<!-- x03 -->\n<g id=\"node4\" class=\"node\">\n<title>x03</title>\n<polygon fill=\"none\" stroke=\"black\" points=\"541,-134 487,-134 487,-98 541,-98 541,-134\"/>\n<text text-anchor=\"middle\" x=\"514\" y=\"-112.3\" font-family=\"Times,serif\" font-size=\"14.00\">x03</text>\n</g>\n<!-- x03&#45;&gt;y -->\n<g id=\"edge12\" class=\"edge\">\n<title>x03&#45;&gt;y</title>\n<path fill=\"none\" stroke=\"black\" d=\"M486.81,-101.04C454.26,-84.33 399.63,-56.29 363.45,-37.71\"/>\n<polygon fill=\"black\" stroke=\"black\" points=\"364.72,-34.43 354.22,-32.98 361.52,-40.66 364.72,-34.43\"/>\n<text text-anchor=\"middle\" x=\"468\" y=\"-70.4\" font-family=\"Times,serif\" font-size=\"12.00\">&#45;0.004</text>\n<text text-anchor=\"middle\" x=\"468\" y=\"-57.4\" font-family=\"Times,serif\" font-size=\"12.00\">p&#45;val: 0.58</text>\n</g>\n<!-- x11 -->\n<g id=\"node5\" class=\"node\">\n<title>x11</title>\n<polygon fill=\"none\" stroke=\"black\" points=\"54,-232 0,-232 0,-196 54,-196 54,-232\"/>\n<text text-anchor=\"middle\" x=\"27\" y=\"-210.3\" font-family=\"Times,serif\" font-size=\"14.00\">x11</text>\n</g>\n<!-- x11&#45;&gt;x01 -->\n<g id=\"edge1\" class=\"edge\">\n<title>x11&#45;&gt;x01</title>\n<path fill=\"none\" stroke=\"black\" d=\"M26.68,-195.73C27.35,-182.28 30.39,-163.94 41,-152 56.4,-134.67 80.99,-125.92 101.68,-121.5\"/>\n<polygon fill=\"black\" stroke=\"black\" points=\"102.58,-124.9 111.77,-119.62 101.3,-118.02 102.58,-124.9\"/>\n<text text-anchor=\"middle\" x=\"67\" y=\"-168.4\" font-family=\"Times,serif\" font-size=\"12.00\">0.577</text>\n<text text-anchor=\"middle\" x=\"67\" y=\"-155.4\" font-family=\"Times,serif\" font-size=\"12.00\">p&#45;val: 0.00</text>\n</g>\n<!-- x12 -->\n<g id=\"node6\" class=\"node\">\n<title>x12</title>\n<polygon fill=\"none\" stroke=\"black\" points=\"129,-232 75,-232 75,-196 129,-196 129,-232\"/>\n<text text-anchor=\"middle\" x=\"102\" y=\"-210.3\" font-family=\"Times,serif\" font-size=\"14.00\">x12</text>\n</g>\n<!-- x12&#45;&gt;x01 -->\n<g id=\"edge2\" class=\"edge\">\n<title>x12&#45;&gt;x01</title>\n<path fill=\"none\" stroke=\"black\" d=\"M98.9,-195.96C97.38,-183.31 96.99,-165.9 103,-152 104.59,-148.32 106.77,-144.84 109.27,-141.6\"/>\n<polygon fill=\"black\" stroke=\"black\" points=\"111.95,-143.85 116.02,-134.07 106.74,-139.18 111.95,-143.85\"/>\n<text text-anchor=\"middle\" x=\"129\" y=\"-168.4\" font-family=\"Times,serif\" font-size=\"12.00\">0.795</text>\n<text text-anchor=\"middle\" x=\"129\" y=\"-155.4\" font-family=\"Times,serif\" font-size=\"12.00\">p&#45;val: 0.00</text>\n</g>\n<!-- x13 -->\n<g id=\"node7\" class=\"node\">\n<title>x13</title>\n<polygon fill=\"none\" stroke=\"black\" points=\"204,-232 150,-232 150,-196 204,-196 204,-232\"/>\n<text text-anchor=\"middle\" x=\"177\" y=\"-210.3\" font-family=\"Times,serif\" font-size=\"14.00\">x13</text>\n</g>\n<!-- x13&#45;&gt;x01 -->\n<g id=\"edge3\" class=\"edge\">\n<title>x13&#45;&gt;x01</title>\n<path fill=\"none\" stroke=\"black\" d=\"M171.21,-195.77C166.98,-183.47 160.96,-166.59 155,-152 153.89,-149.27 152.68,-146.45 151.45,-143.64\"/>\n<polygon fill=\"black\" stroke=\"black\" points=\"154.56,-142.01 147.26,-134.32 148.17,-144.88 154.56,-142.01\"/>\n<text text-anchor=\"middle\" x=\"190\" y=\"-168.4\" font-family=\"Times,serif\" font-size=\"12.00\">0.042</text>\n<text text-anchor=\"middle\" x=\"190\" y=\"-155.4\" font-family=\"Times,serif\" font-size=\"12.00\">p&#45;val: 0.07</text>\n</g>\n<!-- x21 -->\n<g id=\"node8\" class=\"node\">\n<title>x21</title>\n<polygon fill=\"none\" stroke=\"black\" points=\"279,-232 225,-232 225,-196 279,-196 279,-232\"/>\n<text text-anchor=\"middle\" x=\"252\" y=\"-210.3\" font-family=\"Times,serif\" font-size=\"14.00\">x21</text>\n</g>\n<!-- x21&#45;&gt;x02 -->\n<g id=\"edge4\" class=\"edge\">\n<title>x21&#45;&gt;x02</title>\n<path fill=\"none\" stroke=\"black\" d=\"M254.03,-195.99C256.32,-182.86 261.11,-164.82 271,-152 276.39,-145.02 283.59,-139.07 291.03,-134.17\"/>\n<polygon fill=\"black\" stroke=\"black\" points=\"293.03,-137.06 299.79,-128.9 289.41,-131.06 293.03,-137.06\"/>\n<text text-anchor=\"middle\" x=\"297\" y=\"-168.4\" font-family=\"Times,serif\" font-size=\"12.00\">&#45;0.579</text>\n<text text-anchor=\"middle\" x=\"297\" y=\"-155.4\" font-family=\"Times,serif\" font-size=\"12.00\">p&#45;val: 0.00</text>\n</g>\n<!-- x22 -->\n<g id=\"node9\" class=\"node\">\n<title>x22</title>\n<polygon fill=\"none\" stroke=\"black\" points=\"354,-232 300,-232 300,-196 354,-196 354,-232\"/>\n<text text-anchor=\"middle\" x=\"327\" y=\"-210.3\" font-family=\"Times,serif\" font-size=\"14.00\">x22</text>\n</g>\n<!-- x22&#45;&gt;x02 -->\n<g id=\"edge5\" class=\"edge\">\n<title>x22&#45;&gt;x02</title>\n<path fill=\"none\" stroke=\"black\" d=\"M327,-195.84C327,-181.5 327,-160.81 327,-144.22\"/>\n<polygon fill=\"black\" stroke=\"black\" points=\"330.5,-144.01 327,-134.01 323.5,-144.01 330.5,-144.01\"/>\n<text text-anchor=\"middle\" x=\"353\" y=\"-168.4\" font-family=\"Times,serif\" font-size=\"12.00\">0.758</text>\n<text text-anchor=\"middle\" x=\"353\" y=\"-155.4\" font-family=\"Times,serif\" font-size=\"12.00\">p&#45;val: 0.00</text>\n</g>\n<!-- x23 -->\n<g id=\"node10\" class=\"node\">\n<title>x23</title>\n<polygon fill=\"none\" stroke=\"black\" points=\"429,-232 375,-232 375,-196 429,-196 429,-232\"/>\n<text text-anchor=\"middle\" x=\"402\" y=\"-210.3\" font-family=\"Times,serif\" font-size=\"14.00\">x23</text>\n</g>\n<!-- x23&#45;&gt;x02 -->\n<g id=\"edge6\" class=\"edge\">\n<title>x23&#45;&gt;x02</title>\n<path fill=\"none\" stroke=\"black\" d=\"M398.87,-195.78C395.81,-182.69 390.09,-164.83 380,-152 375.27,-145.98 369.2,-140.65 362.87,-136.08\"/>\n<polygon fill=\"black\" stroke=\"black\" points=\"364.46,-132.93 354.19,-130.33 360.59,-138.77 364.46,-132.93\"/>\n<text text-anchor=\"middle\" x=\"419\" y=\"-168.4\" font-family=\"Times,serif\" font-size=\"12.00\">0.014</text>\n<text text-anchor=\"middle\" x=\"419\" y=\"-155.4\" font-family=\"Times,serif\" font-size=\"12.00\">p&#45;val: 0.64</text>\n</g>\n<!-- x31 -->\n<g id=\"node11\" class=\"node\">\n<title>x31</title>\n<polygon fill=\"none\" stroke=\"black\" points=\"504,-232 450,-232 450,-196 504,-196 504,-232\"/>\n<text text-anchor=\"middle\" x=\"477\" y=\"-210.3\" font-family=\"Times,serif\" font-size=\"14.00\">x31</text>\n</g>\n<!-- x31&#45;&gt;x03 -->\n<g id=\"edge7\" class=\"edge\">\n<title>x31&#45;&gt;x03</title>\n<path fill=\"none\" stroke=\"black\" d=\"M473.9,-195.96C472.38,-183.31 471.99,-165.9 478,-152 479.59,-148.32 481.77,-144.84 484.27,-141.6\"/>\n<polygon fill=\"black\" stroke=\"black\" points=\"486.95,-143.85 491.02,-134.07 481.74,-139.18 486.95,-143.85\"/>\n<text text-anchor=\"middle\" x=\"504\" y=\"-168.4\" font-family=\"Times,serif\" font-size=\"12.00\">0.549</text>\n<text text-anchor=\"middle\" x=\"504\" y=\"-155.4\" font-family=\"Times,serif\" font-size=\"12.00\">p&#45;val: 0.00</text>\n</g>\n<!-- x32 -->\n<g id=\"node12\" class=\"node\">\n<title>x32</title>\n<polygon fill=\"none\" stroke=\"black\" points=\"579,-232 525,-232 525,-196 579,-196 579,-232\"/>\n<text text-anchor=\"middle\" x=\"552\" y=\"-210.3\" font-family=\"Times,serif\" font-size=\"14.00\">x32</text>\n</g>\n<!-- x32&#45;&gt;x03 -->\n<g id=\"edge8\" class=\"edge\">\n<title>x32&#45;&gt;x03</title>\n<path fill=\"none\" stroke=\"black\" d=\"M546.21,-195.77C541.98,-183.47 535.96,-166.59 530,-152 528.89,-149.27 527.68,-146.45 526.45,-143.64\"/>\n<polygon fill=\"black\" stroke=\"black\" points=\"529.56,-142.01 522.26,-134.32 523.17,-144.88 529.56,-142.01\"/>\n<text text-anchor=\"middle\" x=\"565\" y=\"-168.4\" font-family=\"Times,serif\" font-size=\"12.00\">&#45;0.812</text>\n<text text-anchor=\"middle\" x=\"565\" y=\"-155.4\" font-family=\"Times,serif\" font-size=\"12.00\">p&#45;val: 0.00</text>\n</g>\n<!-- x33 -->\n<g id=\"node13\" class=\"node\">\n<title>x33</title>\n<polygon fill=\"none\" stroke=\"black\" points=\"654,-232 600,-232 600,-196 654,-196 654,-232\"/>\n<text text-anchor=\"middle\" x=\"627\" y=\"-210.3\" font-family=\"Times,serif\" font-size=\"14.00\">x33</text>\n</g>\n<!-- x33&#45;&gt;x03 -->\n<g id=\"edge9\" class=\"edge\">\n<title>x33&#45;&gt;x03</title>\n<path fill=\"none\" stroke=\"black\" d=\"M621.55,-195.74C616.53,-182.29 607.89,-163.95 595,-152 582.56,-140.46 565.73,-132.36 550.63,-126.88\"/>\n<polygon fill=\"black\" stroke=\"black\" points=\"551.61,-123.51 541.02,-123.64 549.38,-130.15 551.61,-123.51\"/>\n<text text-anchor=\"middle\" x=\"639\" y=\"-168.4\" font-family=\"Times,serif\" font-size=\"12.00\">&#45;0.041</text>\n<text text-anchor=\"middle\" x=\"639\" y=\"-155.4\" font-family=\"Times,serif\" font-size=\"12.00\">p&#45;val: 0.17</text>\n</g>\n</g>\n</svg>\n",
            "text/plain": [
              "<graphviz.graphs.Digraph at 0x7b2d4d91a6e0>"
            ]
          },
          "metadata": {},
          "execution_count": 31
        }
      ]
    },
    {
      "cell_type": "markdown",
      "source": [
        "# Reduced model"
      ],
      "metadata": {
        "id": "nd51eCaw0pr5"
      }
    },
    {
      "cell_type": "markdown",
      "source": [
        "Remove from the full model variables or relationships that are not statistically significant."
      ],
      "metadata": {
        "id": "8gfCgI5_0sNz"
      }
    },
    {
      "cell_type": "code",
      "source": [
        "# Set a threshold for statistical significance\n",
        "alpha = 0.05\n",
        "\n",
        "# Identify non-significant relationships based on p-values\n",
        "m0_results = m0.inspect()\n",
        "non_significant_relationships = m0_results[m0_results['p-value'] > alpha]\n",
        "\n",
        "# Create a new model specification by removing non-significant relationships\n",
        "reduced_spec = m0_spec\n",
        "for index, row in non_significant_relationships.iterrows():\n",
        "  relationship = f\"{row['lval']} ~ {row['rval']}\"\n",
        "  reduced_spec = reduced_spec.replace(relationship, \"\")\n",
        "\n",
        "# Create a SEM model object for the reduced model\n",
        "m1 = semopy.Model(reduced_spec)\n",
        "\n",
        "# Fit the reduced model to the data\n",
        "m1.fit(df)\n",
        "\n",
        "# Print the reduced model results\n",
        "print(m1.inspect())"
      ],
      "metadata": {
        "colab": {
          "base_uri": "https://localhost:8080/",
          "height": 0
        },
        "id": "Zki7dUwct85_",
        "outputId": "bb331016-ccdc-49fa-8398-55f47ee78ea0"
      },
      "execution_count": 34,
      "outputs": [
        {
          "output_type": "stream",
          "name": "stdout",
          "text": [
            "   lval  op rval  Estimate  Std. Err     z-value       p-value\n",
            "0   x01   ~  x11  1.909293  0.077127   24.755254  0.000000e+00\n",
            "1   x01   ~  x12  3.080561  0.089704   34.341451  0.000000e+00\n",
            "2   x02   ~  x21 -2.048597  0.104117  -19.675994  0.000000e+00\n",
            "3   x02   ~  x22  2.837301  0.109498   25.911992  0.000000e+00\n",
            "4     y   ~  x01  2.041721  0.023338   87.484357  0.000000e+00\n",
            "5     y   ~  x02 -3.001224  0.023668 -126.804795  0.000000e+00\n",
            "6   x03   ~  x31  1.947034  0.103102   18.884467  0.000000e+00\n",
            "7   x03   ~  x32 -2.977470  0.105859  -28.126805  0.000000e+00\n",
            "8   x01  ~~  x01  0.756924  0.107045    7.071068  1.537437e-12\n",
            "9   x02  ~~  x02  1.174109  0.166044    7.071068  1.537437e-12\n",
            "10  x03  ~~  x03  0.999318  0.141325    7.071068  1.537437e-12\n",
            "11    y  ~~    y  0.747675  0.105737    7.071068  1.537437e-12\n"
          ]
        }
      ]
    },
    {
      "cell_type": "code",
      "source": [
        "semopy.semplot(m1, \"m1.png\", std_ests = True)"
      ],
      "metadata": {
        "colab": {
          "base_uri": "https://localhost:8080/",
          "height": 341
        },
        "id": "1pXmb4N51RyC",
        "outputId": "89d1b58e-6a14-4146-ea48-fdbdd4f953ff"
      },
      "execution_count": 35,
      "outputs": [
        {
          "output_type": "execute_result",
          "data": {
            "image/svg+xml": "<?xml version=\"1.0\" encoding=\"UTF-8\" standalone=\"no\"?>\n<!DOCTYPE svg PUBLIC \"-//W3C//DTD SVG 1.1//EN\"\n \"http://www.w3.org/Graphics/SVG/1.1/DTD/svg11.dtd\">\n<!-- Generated by graphviz version 2.43.0 (0)\n -->\n<!-- Title: G Pages: 1 -->\n<svg width=\"453pt\" height=\"240pt\"\n viewBox=\"0.00 0.00 453.00 240.00\" xmlns=\"http://www.w3.org/2000/svg\" xmlns:xlink=\"http://www.w3.org/1999/xlink\">\n<g id=\"graph0\" class=\"graph\" transform=\"scale(1 1) rotate(0) translate(4 236)\">\n<title>G</title>\n<polygon fill=\"white\" stroke=\"transparent\" points=\"-4,4 -4,-236 449,-236 449,4 -4,4\"/>\n<!-- x03 -->\n<g id=\"node1\" class=\"node\">\n<title>x03</title>\n<polygon fill=\"none\" stroke=\"black\" points=\"92,-134 38,-134 38,-98 92,-98 92,-134\"/>\n<text text-anchor=\"middle\" x=\"65\" y=\"-112.3\" font-family=\"Times,serif\" font-size=\"14.00\">x03</text>\n</g>\n<!-- y -->\n<g id=\"node2\" class=\"node\">\n<title>y</title>\n<polygon fill=\"none\" stroke=\"black\" points=\"316,-36 262,-36 262,0 316,0 316,-36\"/>\n<text text-anchor=\"middle\" x=\"289\" y=\"-14.3\" font-family=\"Times,serif\" font-size=\"14.00\">y</text>\n</g>\n<!-- x01 -->\n<g id=\"node3\" class=\"node\">\n<title>x01</title>\n<polygon fill=\"none\" stroke=\"black\" points=\"279,-134 225,-134 225,-98 279,-98 279,-134\"/>\n<text text-anchor=\"middle\" x=\"252\" y=\"-112.3\" font-family=\"Times,serif\" font-size=\"14.00\">x01</text>\n</g>\n<!-- x01&#45;&gt;y -->\n<g id=\"edge5\" class=\"edge\">\n<title>x01&#45;&gt;y</title>\n<path fill=\"none\" stroke=\"black\" d=\"M248.9,-97.96C247.38,-85.31 246.99,-67.9 253,-54 254.59,-50.32 256.77,-46.84 259.27,-43.6\"/>\n<polygon fill=\"black\" stroke=\"black\" points=\"261.95,-45.85 266.02,-36.07 256.74,-41.18 261.95,-45.85\"/>\n<text text-anchor=\"middle\" x=\"279\" y=\"-70.4\" font-family=\"Times,serif\" font-size=\"12.00\">0.614</text>\n<text text-anchor=\"middle\" x=\"279\" y=\"-57.4\" font-family=\"Times,serif\" font-size=\"12.00\">p&#45;val: 0.00</text>\n</g>\n<!-- x02 -->\n<g id=\"node4\" class=\"node\">\n<title>x02</title>\n<polygon fill=\"none\" stroke=\"black\" points=\"354,-134 300,-134 300,-98 354,-98 354,-134\"/>\n<text text-anchor=\"middle\" x=\"327\" y=\"-112.3\" font-family=\"Times,serif\" font-size=\"14.00\">x02</text>\n</g>\n<!-- x02&#45;&gt;y -->\n<g id=\"edge6\" class=\"edge\">\n<title>x02&#45;&gt;y</title>\n<path fill=\"none\" stroke=\"black\" d=\"M321.21,-97.77C316.98,-85.47 310.96,-68.59 305,-54 303.89,-51.27 302.68,-48.45 301.45,-45.64\"/>\n<polygon fill=\"black\" stroke=\"black\" points=\"304.56,-44.01 297.26,-36.32 298.17,-46.88 304.56,-44.01\"/>\n<text text-anchor=\"middle\" x=\"340\" y=\"-70.4\" font-family=\"Times,serif\" font-size=\"12.00\">&#45;0.889</text>\n<text text-anchor=\"middle\" x=\"340\" y=\"-57.4\" font-family=\"Times,serif\" font-size=\"12.00\">p&#45;val: 0.00</text>\n</g>\n<!-- x11 -->\n<g id=\"node5\" class=\"node\">\n<title>x11</title>\n<polygon fill=\"none\" stroke=\"black\" points=\"204,-232 150,-232 150,-196 204,-196 204,-232\"/>\n<text text-anchor=\"middle\" x=\"177\" y=\"-210.3\" font-family=\"Times,serif\" font-size=\"14.00\">x11</text>\n</g>\n<!-- x11&#45;&gt;x01 -->\n<g id=\"edge1\" class=\"edge\">\n<title>x11&#45;&gt;x01</title>\n<path fill=\"none\" stroke=\"black\" d=\"M179.03,-195.99C181.32,-182.86 186.11,-164.82 196,-152 201.39,-145.02 208.59,-139.07 216.03,-134.17\"/>\n<polygon fill=\"black\" stroke=\"black\" points=\"218.03,-137.06 224.79,-128.9 214.41,-131.06 218.03,-137.06\"/>\n<text text-anchor=\"middle\" x=\"222\" y=\"-168.4\" font-family=\"Times,serif\" font-size=\"12.00\">0.574</text>\n<text text-anchor=\"middle\" x=\"222\" y=\"-155.4\" font-family=\"Times,serif\" font-size=\"12.00\">p&#45;val: 0.00</text>\n</g>\n<!-- x12 -->\n<g id=\"node6\" class=\"node\">\n<title>x12</title>\n<polygon fill=\"none\" stroke=\"black\" points=\"279,-232 225,-232 225,-196 279,-196 279,-232\"/>\n<text text-anchor=\"middle\" x=\"252\" y=\"-210.3\" font-family=\"Times,serif\" font-size=\"14.00\">x12</text>\n</g>\n<!-- x12&#45;&gt;x01 -->\n<g id=\"edge2\" class=\"edge\">\n<title>x12&#45;&gt;x01</title>\n<path fill=\"none\" stroke=\"black\" d=\"M252,-195.84C252,-181.5 252,-160.81 252,-144.22\"/>\n<polygon fill=\"black\" stroke=\"black\" points=\"255.5,-144.01 252,-134.01 248.5,-144.01 255.5,-144.01\"/>\n<text text-anchor=\"middle\" x=\"278\" y=\"-168.4\" font-family=\"Times,serif\" font-size=\"12.00\">0.796</text>\n<text text-anchor=\"middle\" x=\"278\" y=\"-155.4\" font-family=\"Times,serif\" font-size=\"12.00\">p&#45;val: 0.00</text>\n</g>\n<!-- x21 -->\n<g id=\"node7\" class=\"node\">\n<title>x21</title>\n<polygon fill=\"none\" stroke=\"black\" points=\"354,-232 300,-232 300,-196 354,-196 354,-232\"/>\n<text text-anchor=\"middle\" x=\"327\" y=\"-210.3\" font-family=\"Times,serif\" font-size=\"14.00\">x21</text>\n</g>\n<!-- x21&#45;&gt;x02 -->\n<g id=\"edge3\" class=\"edge\">\n<title>x21&#45;&gt;x02</title>\n<path fill=\"none\" stroke=\"black\" d=\"M327,-195.84C327,-181.5 327,-160.81 327,-144.22\"/>\n<polygon fill=\"black\" stroke=\"black\" points=\"330.5,-144.01 327,-134.01 323.5,-144.01 330.5,-144.01\"/>\n<text text-anchor=\"middle\" x=\"353\" y=\"-168.4\" font-family=\"Times,serif\" font-size=\"12.00\">&#45;0.576</text>\n<text text-anchor=\"middle\" x=\"353\" y=\"-155.4\" font-family=\"Times,serif\" font-size=\"12.00\">p&#45;val: 0.00</text>\n</g>\n<!-- x22 -->\n<g id=\"node8\" class=\"node\">\n<title>x22</title>\n<polygon fill=\"none\" stroke=\"black\" points=\"429,-232 375,-232 375,-196 429,-196 429,-232\"/>\n<text text-anchor=\"middle\" x=\"402\" y=\"-210.3\" font-family=\"Times,serif\" font-size=\"14.00\">x22</text>\n</g>\n<!-- x22&#45;&gt;x02 -->\n<g id=\"edge4\" class=\"edge\">\n<title>x22&#45;&gt;x02</title>\n<path fill=\"none\" stroke=\"black\" d=\"M398.87,-195.78C395.81,-182.69 390.09,-164.83 380,-152 375.27,-145.98 369.2,-140.65 362.87,-136.08\"/>\n<polygon fill=\"black\" stroke=\"black\" points=\"364.46,-132.93 354.19,-130.33 360.59,-138.77 364.46,-132.93\"/>\n<text text-anchor=\"middle\" x=\"419\" y=\"-168.4\" font-family=\"Times,serif\" font-size=\"12.00\">0.759</text>\n<text text-anchor=\"middle\" x=\"419\" y=\"-155.4\" font-family=\"Times,serif\" font-size=\"12.00\">p&#45;val: 0.00</text>\n</g>\n<!-- x31 -->\n<g id=\"node9\" class=\"node\">\n<title>x31</title>\n<polygon fill=\"none\" stroke=\"black\" points=\"54,-232 0,-232 0,-196 54,-196 54,-232\"/>\n<text text-anchor=\"middle\" x=\"27\" y=\"-210.3\" font-family=\"Times,serif\" font-size=\"14.00\">x31</text>\n</g>\n<!-- x31&#45;&gt;x03 -->\n<g id=\"edge7\" class=\"edge\">\n<title>x31&#45;&gt;x03</title>\n<path fill=\"none\" stroke=\"black\" d=\"M22.05,-195.88C19.33,-183.19 17.65,-165.77 24,-152 25.71,-148.28 28.04,-144.81 30.72,-141.61\"/>\n<polygon fill=\"black\" stroke=\"black\" points=\"33.45,-143.83 37.96,-134.24 28.45,-138.93 33.45,-143.83\"/>\n<text text-anchor=\"middle\" x=\"50\" y=\"-168.4\" font-family=\"Times,serif\" font-size=\"12.00\">0.551</text>\n<text text-anchor=\"middle\" x=\"50\" y=\"-155.4\" font-family=\"Times,serif\" font-size=\"12.00\">p&#45;val: 0.00</text>\n</g>\n<!-- x32 -->\n<g id=\"node10\" class=\"node\">\n<title>x32</title>\n<polygon fill=\"none\" stroke=\"black\" points=\"129,-232 75,-232 75,-196 129,-196 129,-232\"/>\n<text text-anchor=\"middle\" x=\"102\" y=\"-210.3\" font-family=\"Times,serif\" font-size=\"14.00\">x32</text>\n</g>\n<!-- x32&#45;&gt;x03 -->\n<g id=\"edge8\" class=\"edge\">\n<title>x32&#45;&gt;x03</title>\n<path fill=\"none\" stroke=\"black\" d=\"M96.1,-195.81C91.82,-183.53 85.78,-166.66 80,-152 78.91,-149.23 77.74,-146.36 76.55,-143.5\"/>\n<polygon fill=\"black\" stroke=\"black\" points=\"79.65,-141.85 72.53,-134.01 73.21,-144.58 79.65,-141.85\"/>\n<text text-anchor=\"middle\" x=\"116\" y=\"-168.4\" font-family=\"Times,serif\" font-size=\"12.00\">&#45;0.821</text>\n<text text-anchor=\"middle\" x=\"116\" y=\"-155.4\" font-family=\"Times,serif\" font-size=\"12.00\">p&#45;val: 0.00</text>\n</g>\n</g>\n</svg>\n",
            "text/plain": [
              "<graphviz.graphs.Digraph at 0x7b2d4d919360>"
            ]
          },
          "metadata": {},
          "execution_count": 35
        }
      ]
    },
    {
      "cell_type": "markdown",
      "source": [
        "In this plot, information about the variables that were not statistically significant was removed.\n",
        "The user will not be obstracted by their results but also will not see whether those variables were considered."
      ],
      "metadata": {
        "id": "U73_Us-s1a4Z"
      }
    }
  ]
}